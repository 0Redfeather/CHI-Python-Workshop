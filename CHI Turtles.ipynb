{
 "cells": [
  {
   "cell_type": "markdown",
   "metadata": {},
   "source": [
    "# Turtles in CHI"
   ]
  },
  {
   "cell_type": "code",
   "execution_count": null,
   "metadata": {},
   "outputs": [],
   "source": [
    "# This notebook provides a fun exercise for using Python in Computer graphics\n",
    "# basically, we will be drawing stuff using a python turtle"
   ]
  },
  {
   "cell_type": "markdown",
   "metadata": {},
   "source": [
    "## The turtle module"
   ]
  },
  {
   "cell_type": "code",
   "execution_count": null,
   "metadata": {},
   "outputs": [],
   "source": [
    "# modules in python can contain useful functions, among other things. \n",
    "# The turtle module is a way of programming vector graphics, which is basically just drawing with\n",
    "# simple lines, dots and curves. \n",
    "# let's start by importing the turtle module"
   ]
  },
  {
   "cell_type": "code",
   "execution_count": null,
   "metadata": {},
   "outputs": [],
   "source": [
    "import turtle"
   ]
  },
  {
   "cell_type": "code",
   "execution_count": null,
   "metadata": {},
   "outputs": [],
   "source": [
    "# Now that we've imported the module, we need to create a place to draw on.\n",
    "# To do this, we'll call the Pen function from the turtle module, which automatically creates a canvas."
   ]
  },
  {
   "cell_type": "code",
   "execution_count": null,
   "metadata": {},
   "outputs": [],
   "source": [
    "# Now let's make a turtle!"
   ]
  },
  {
   "cell_type": "code",
   "execution_count": null,
   "metadata": {},
   "outputs": [],
   "source": [
    "ethan = turtle.Turtle()"
   ]
  },
  {
   "cell_type": "code",
   "execution_count": null,
   "metadata": {},
   "outputs": [],
   "source": [
    "# You should see a blank box with an arrow in the center appear. \n",
    "# In the middle of the screen is the turtle, which is disappointedly, not shaped like a turtle\n",
    "# So let's change our turtle to look more like a turtle"
   ]
  },
  {
   "cell_type": "code",
   "execution_count": null,
   "metadata": {},
   "outputs": [],
   "source": [
    "ethan.color('red')\n",
    "ethan.pensize(5)\n",
    "ethan.shape('turtle')"
   ]
  },
  {
   "cell_type": "markdown",
   "metadata": {},
   "source": [
    "## Moving the Turtle"
   ]
  },
  {
   "cell_type": "code",
   "execution_count": null,
   "metadata": {},
   "outputs": [],
   "source": [
    "# Ethan the turtle needs to get somewhere, so how to we move him\n",
    "# There are a number of commands including:"
   ]
  },
  {
   "cell_type": "code",
   "execution_count": null,
   "metadata": {},
   "outputs": [],
   "source": [
    "ethan.forward(25)\n",
    "ethan.backward(75)\n",
    "ethan.left(50)\n",
    "ethan.right(100)"
   ]
  },
  {
   "cell_type": "code",
   "execution_count": null,
   "metadata": {},
   "outputs": [],
   "source": [
    "# We can also pick up the pen and put it down using these next two commands\n",
    "# While we're also at it, we can change his color!"
   ]
  },
  {
   "cell_type": "code",
   "execution_count": null,
   "metadata": {},
   "outputs": [],
   "source": [
    "ethan.penup()\n",
    "ethan.left(25)\n",
    "ethan.forward(60)\n",
    "ethan.pendown()\n",
    "ethan.color('green')\n",
    "ethan.left(25)\n",
    "ethan.forward(100)\n",
    "ethan.color('blue')\n",
    "ethan.left(90)\n",
    "ethan.forward(200)"
   ]
  },
  {
   "cell_type": "code",
   "execution_count": null,
   "metadata": {},
   "outputs": [],
   "source": [
    "# Now try moving around the turtle a bit yourself. \n",
    "# Enter your code in the next block and run it"
   ]
  },
  {
   "cell_type": "code",
   "execution_count": null,
   "metadata": {},
   "outputs": [],
   "source": []
  },
  {
   "cell_type": "markdown",
   "metadata": {},
   "source": [
    "# # Turtle Events"
   ]
  },
  {
   "cell_type": "code",
   "execution_count": null,
   "metadata": {},
   "outputs": [],
   "source": [
    "# Drawing out shapes is possible, but let's make it a bit more interactive\n",
    "# first let's make our turtle move fast\n",
    "ethan.speed(0)\n",
    "\n",
    "# Then let's give ourselves a palet of colors\n",
    "colors = ['red', 'blue', 'green', 'purple', 'yellow', 'orange', 'black']"
   ]
  },
  {
   "cell_type": "code",
   "execution_count": null,
   "metadata": {},
   "outputs": [],
   "source": [
    "# Next we'll create some functions that tell the turtle what to do when \n",
    "# a user enters a certain key\n",
    "# first, let's import another package that will let us do some more things\n",
    "\n",
    "import random\n",
    "\n",
    "def up():\n",
    "    ethan.setheading(90)\n",
    "    ethan.forward(100)\n",
    "    \n",
    "def down():\n",
    "    ethan.setheading(270)\n",
    "    ethan.forward(100)\n",
    "    \n",
    "def left():\n",
    "    ethan.setheading(180)\n",
    "    ethan.forward(100)\n",
    "    \n",
    "def right():\n",
    "    ethan.setheading(0)\n",
    "    ethan.forward(100)\n"
   ]
  },
  {
   "cell_type": "code",
   "execution_count": null,
   "metadata": {},
   "outputs": [],
   "source": [
    "# what about making something clickable? There are functions to accomplish this\n",
    "# This code has to go before the mainloop code\n",
    "\n",
    "def clickleft(x,y):\n",
    "    ethan.color(random.choice(colors))\n",
    "    \n",
    "def clickright(x,y):\n",
    "    ethan.stamp()\n",
    "    \n",
    "turtle.onscreenclick(clickleft, 1)\n",
    "turtle.onscreenclick(clickright, 3)"
   ]
  },
  {
   "cell_type": "code",
   "execution_count": null,
   "metadata": {},
   "outputs": [],
   "source": [
    "# In the turtle module, there are events such as moving your mouse or hitting your keyboard\n",
    "# We need to tell our turtle to listen to these events\n",
    "\n",
    "turtle.listen()"
   ]
  },
  {
   "cell_type": "code",
   "execution_count": null,
   "metadata": {},
   "outputs": [],
   "source": [
    "# Now that the program is listening, we can give it onkey functions to listen to\n",
    "\n",
    "turtle.onkey(up, 'Up')\n",
    "turtle.onkey(down, 'Down')\n",
    "turtle.onkey(left, 'Left')\n",
    "turtle.onkey(right, 'Right')\n",
    "\n",
    "# We need to add a mainloop function that keeps the program open until we close it. \n",
    "turtle.mainloop()"
   ]
  },
  {
   "cell_type": "markdown",
   "metadata": {},
   "source": [
    "# # Using your mouse to move your turtle"
   ]
  },
  {
   "cell_type": "code",
   "execution_count": 2,
   "metadata": {},
   "outputs": [],
   "source": [
    "# Create a function for dragging your turtle across the screen\n",
    "import turtle\n",
    "from turtle import Turtle, Screen\n",
    "\n",
    "screen = Screen()\n",
    "ethan = Turtle(\"turtle\")\n",
    "ethan.speed(-1)\n",
    "\n",
    "def dragging(x, y):\n",
    "    ethan.ondrag(None)\n",
    "    ethan.setheading(ethan.towards(x,y))\n",
    "    ethan.goto(x,y)\n",
    "    ethan.ondrag(dragging)\n",
    "    \n",
    "def clickright (x,y):\n",
    "    ethan.clear()\n",
    "    \n",
    "def main():\n",
    "    turtle.listen()\n",
    "    \n",
    "    ethan.ondrag(dragging)\n",
    "    \n",
    "    turtle.onscreenclick(clickright, 3)\n",
    "    \n",
    "    screen.mainloop()\n",
    "    \n",
    "main()"
   ]
  }
 ],
 "metadata": {
  "kernelspec": {
   "display_name": "Python 3",
   "language": "python",
   "name": "python3"
  },
  "language_info": {
   "codemirror_mode": {
    "name": "ipython",
    "version": 3
   },
   "file_extension": ".py",
   "mimetype": "text/x-python",
   "name": "python",
   "nbconvert_exporter": "python",
   "pygments_lexer": "ipython3",
   "version": "3.7.4"
  }
 },
 "nbformat": 4,
 "nbformat_minor": 2
}
