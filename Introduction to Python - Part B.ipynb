{
 "cells": [
  {
   "cell_type": "markdown",
   "metadata": {},
   "source": [
    "# SSDA Training Workshop I.1.D: Introduction to Python"
   ]
  },
  {
   "cell_type": "code",
   "execution_count": null,
   "metadata": {},
   "outputs": [],
   "source": [
    "# This script is developed for the use of SSDA training workshop\n",
    "# ONLY!\n",
    "# Please contact ssda@msu.edu if you have any questions.\n",
    "# This script is updated on November 10, 2019. V2019-1.0"
   ]
  },
  {
   "cell_type": "markdown",
   "metadata": {},
   "source": [
    "# Table of Contents"
   ]
  },
  {
   "cell_type": "code",
   "execution_count": null,
   "metadata": {},
   "outputs": [],
   "source": [
    "# Part A\n",
    "## 1 Python Basics\n",
    "## 2 Python Lists\n",
    "## 3 Python Functions & Packages\n",
    "## 4 Data Structure\n",
    "\n",
    "# Part B\n",
    "## 1 Visulizatoin using Matplotlib"
   ]
  },
  {
   "cell_type": "markdown",
   "metadata": {},
   "source": [
    "# 1. Visulization using Matplotlib"
   ]
  },
  {
   "cell_type": "markdown",
   "metadata": {},
   "source": [
    "# 1.1 Line Plot"
   ]
  },
  {
   "cell_type": "code",
   "execution_count": null,
   "metadata": {},
   "outputs": [],
   "source": [
    "# Matplotlib is a package in Python for data visulization.\n",
    "# Pyplot is a subpackage of matplotlib.\n",
    "import matplotlib.pyplot as plt\n",
    "\n",
    "# plt.plot creats a line plot\n",
    "############################################################################################################################\n",
    "#                                                  plt.plot(x-axis, y-axis)                                                #\n",
    "############################################################################################################################\n",
    "\n",
    "date = [\"2019-3-26\", \"2019-4-18\", \"2019-5-21\", \"2019-5-29\"]\n",
    "registration = [22, 15, 19, 13]\n",
    "plt.plot(date, registration)\n",
    "plt.show()"
   ]
  },
  {
   "cell_type": "markdown",
   "metadata": {},
   "source": [
    "# 1.2 Bar Chart"
   ]
  },
  {
   "cell_type": "code",
   "execution_count": null,
   "metadata": {},
   "outputs": [],
   "source": [
    "# Matplotlib is a package in Python for data visulization.\n",
    "# Pyplot is a subpackage of matplotlib.\n",
    "import matplotlib.pyplot as plt\n",
    "\n",
    "# plt.bar creats a bar graph\n",
    "############################################################################################################################\n",
    "#                                                  plt.bar(x-axis, y-axis)                                                 #\n",
    "############################################################################################################################\n",
    "\n",
    "date = [\"2019-3-26\", \"2019-4-18\", \"2019-5-21\", \"2019-5-29\"]\n",
    "registration = [22, 15, 19, 13]\n",
    "plt.bar(date, registration)\n",
    "plt.show()"
   ]
  },
  {
   "cell_type": "markdown",
   "metadata": {},
   "source": [
    "# 1.3 Scatter Plot"
   ]
  },
  {
   "cell_type": "code",
   "execution_count": null,
   "metadata": {},
   "outputs": [],
   "source": [
    "# Matplotlib is a package in Python for data visulization.\n",
    "# Pyplot is a subpackage of matplotlib.\n",
    "import matplotlib.pyplot as plt\n",
    "\n",
    "# plt.scatter creats a scatter plot\n",
    "############################################################################################################################\n",
    "#                                            plt.scatter(x-axis, y-axis)                                                   #\n",
    "############################################################################################################################\n",
    "\n",
    "date = [\"2019-3-26\", \"2019-4-18\", \"2019-5-21\", \"2019-5-29\"]\n",
    "registration = [22, 15, 19, 13]\n",
    "plt.scatter(date, registration)\n",
    "plt.show()"
   ]
  },
  {
   "cell_type": "markdown",
   "metadata": {},
   "source": [
    "# 1.4 Bubble Chart with Customization"
   ]
  },
  {
   "cell_type": "code",
   "execution_count": null,
   "metadata": {},
   "outputs": [],
   "source": [
    "# Matplotlib is a package in Python for data visulization.\n",
    "# We here import the subpackage pyplot of Matplotlib.\n",
    "import matplotlib.pyplot as plt\n",
    "\n",
    "import pandas as pd\n",
    "from pandas.plotting import register_matplotlib_converters\n",
    "register_matplotlib_converters()\n",
    "date = pd.to_datetime([\"2019-3-26\", \"2019-4-18\", \"2019-5-21\", \"2019-5-29\"])\n",
    "registration = [22, 15, 19, 13]\n",
    "\n",
    "import numpy as np\n",
    "plt.scatter(date, registration, s=np.array(registration)*100, c=[\"green\",\"red\",\"brown\",\"blue\"],alpha=0.5)\n",
    "# help(plt.scatter)\n",
    "# Arguments: s is size, c is color, alpha with 0 being transparent and 1 is opaque\n",
    "# If we need put the x-axis on a logarithmic scale, then use plt.xscale('log')\n",
    "\n",
    "plt.title(\"SSDA Workshop Registration Analysis\",fontsize=16)\n",
    "plt.xlabel(\"Date\", fontsize=16)\n",
    "plt.ylabel(\"Registration Number\",fontsize=16)\n",
    "plt.yticks([5,10,15,20,25,30])\n",
    "plt.xlim([\"2019-03-01\",\"2019-07-01\"])\n",
    "plt.xticks([\"2019-03-01\",\"2019-04-01\",\"2019-05-01\",\"2019-06-01\",\"2019-07-01\"],[\"03-01\",\"04-01\",\"05-01\",\"06-01\",\"07-01\"])\n",
    "plt.text(\"2019-03-26\",22,\"Introduction to Python\",fontsize=12)\n",
    "plt.text(\"2019-04-18\",15,\"Introduction to R\",fontsize=12)\n",
    "plt.text(\"2019-05-21\",19, \"Random Forests on Spatial Data\",fontsize=12)\n",
    "plt.text(\"2019-5-29\",13, \"Intermediate Python\", fontsize=12)\n",
    "plt.grid()\n",
    "\n",
    "# Remember to call these plot customization fuctions before the show function.\n",
    "plt.show()"
   ]
  },
  {
   "cell_type": "markdown",
   "metadata": {},
   "source": [
    "# 1.5 Graphs on Common Axes"
   ]
  },
  {
   "cell_type": "code",
   "execution_count": null,
   "metadata": {},
   "outputs": [],
   "source": [
    "import matplotlib.pyplot as plt\n",
    "import numpy as np\n",
    "\n",
    "date = [\"2019-3-26\", \"2019-4-18\", \"2019-5-21\", \"2019-5-29\"]\n",
    "registration = [22, 15, 19, 13]\n",
    "showup = [15, 10, 10, 6]\n",
    "noshowrate = np.round((np.array(registration)-np.array(showup))/np.array(registration)*100,2)\n",
    "plt.bar(date, registration, color='gray')\n",
    "plt.bar(date, showup, color='orange')\n",
    "plt.xlabel(\"Date\", fontsize=16)\n",
    "plt.ylabel(\"Number of Participants\", fontsize=16)\n",
    "plt.title(\"SSDA WORKSOHP NOSHOW ANALYSIS\")\n",
    "plt.text(\"2019-3-26\", 18, str(noshowrate[0])+\"%\", horizontalalignment='center', fontsize=12,color='white')\n",
    "plt.text(\"2019-3-26\", 11, \"Intro to Python\", horizontalalignment='center', fontsize=10)\n",
    "plt.text(\"2019-4-18\", 12, str(noshowrate[1])+\"%\", horizontalalignment='center', fontsize=12,color='white')\n",
    "plt.text(\"2019-4-18\", 8, \"Intro to R\", horizontalalignment='center', fontsize=10)\n",
    "plt.text(\"2019-5-21\", 15, str(noshowrate[2])+\"%\", horizontalalignment='center', fontsize=12,color='white')\n",
    "plt.text(\"2019-5-21\", 5, \"Random Forests\", horizontalalignment='center', fontsize=10)\n",
    "plt.text(\"2019-5-29\", 9, str(noshowrate[3])+\"%\", horizontalalignment='center', fontsize=12,color='white')\n",
    "plt.text(\"2019-5-29\", 2, \"Intermediate Python\", horizontalalignment='center', fontsize=10)\n",
    "plt.show()"
   ]
  },
  {
   "cell_type": "markdown",
   "metadata": {},
   "source": [
    "# 1.6 Multiple Plots"
   ]
  },
  {
   "cell_type": "code",
   "execution_count": null,
   "metadata": {},
   "outputs": [],
   "source": [
    "import pandas as pd\n",
    "date = pd.to_datetime([\"2019-3-26\", \"2019-4-18\", \"2019-5-21\", \"2019-5-29\"])\n",
    "registration = [22, 15, 19, 13]\n",
    "\n",
    "# Create a figure with 1x2 subplots and make the left subplot active - Bubble Chart\n",
    "plt.subplot(1,2,1)\n",
    "import numpy as np\n",
    "plt.scatter(date, registration, s=np.array(registration)*100, color=[\"green\",\"red\",\"brown\",\"blue\"],alpha=0.5)\n",
    "plt.title(\"SSDA Workshop Registration\",fontsize=10)\n",
    "plt.xlabel(\"Date\", fontsize=10)\n",
    "plt.ylabel(\"Registration Number\",fontsize=10)\n",
    "plt.yticks([5,10,15,20,25,30])\n",
    "plt.xlim(\"2019-03-01\",\"2019-07-01\")\n",
    "plt.xticks([\"2019-03-01\",\"2019-04-01\",\"2019-05-01\",\"2019-06-01\",\"2019-07-01\"],[\"03-01\",\"04-01\",\"05-01\",\"06-01\",\"07-01\"])\n",
    "plt.text(\"2019-03-26\",22,\"Introduction to Python\", horizontalalignment='center', fontsize=8)\n",
    "plt.text(\"2019-04-18\",15,\"Introduction to R\", horizontalalignment='center', fontsize=8)\n",
    "plt.text(\"2019-05-21\",19, \"Random Forests on Spatial Data\", horizontalalignment='center', fontsize=8)\n",
    "plt.text(\"2019-5-29\",13, \"Intermediate Python\", horizontalalignment='center', fontsize=8)\n",
    "plt.grid()\n",
    "\n",
    "# Make the right subplot active - Bar Chart\n",
    "plt.subplot(1,2,2)\n",
    "showup = [15,10,10,6]\n",
    "noshowrate = np.round((np.array(registration)-np.array(showup))/np.array(registration)*100,2)\n",
    "plt.bar(date, registration, color=[\"aqua\",\"red\",\"silver\",\"yellow\"],width=[5,5,5,5])\n",
    "plt.bar(date, showup, color='orange',width=[5,5,5,5])\n",
    "plt.xlabel(\"Date\", fontsize=10)\n",
    "plt.ylabel(\"Number of Participants\", fontsize=10)\n",
    "plt.title(\"SSDA Workshop No-Show Analysis\",fontsize=10)\n",
    "plt.text(\"2019-3-26\", 18, str(noshowrate[0])+\"%\", horizontalalignment='center', fontsize=12)\n",
    "plt.text(\"2019-4-18\", 12, str(noshowrate[1])+\"%\", horizontalalignment='center', fontsize=12)\n",
    "plt.text(\"2019-5-21\", 15, str(noshowrate[2])+\"%\", horizontalalignment='center', fontsize=12)\n",
    "plt.text(\"2019-5-29\", 9, str(noshowrate[3])+\"%\", horizontalalignment='center', fontsize=12)\n",
    "plt.xlim(\"2019-03-01\",\"2019-07-01\")\n",
    "plt.xticks([\"2019-03-01\",\"2019-04-01\",\"2019-05-01\",\"2019-06-01\",\"2019-07-01\"],[\"03-01\",\"04-01\",\"05-01\",\"06-01\",\"07-01\"])\n",
    "plt.annotate(\"Max\",xy=(\"2019-5-21\",19),xytext=(\"2019-5-21\",21.5),arrowprops={\"color\":\"green\"},fontsize=16)\n",
    "\n",
    "# Use plt.tight_layout() to improve the spacing between subplots\n",
    "plt.tight_layout()\n",
    "plt.show()"
   ]
  },
  {
   "cell_type": "markdown",
   "metadata": {},
   "source": [
    "# 1.7 Style Sheet"
   ]
  },
  {
   "cell_type": "code",
   "execution_count": null,
   "metadata": {},
   "outputs": [],
   "source": [
    "print(plt.style.available)"
   ]
  },
  {
   "cell_type": "code",
   "execution_count": null,
   "metadata": {},
   "outputs": [],
   "source": [
    "# ggplot style\n",
    "\n",
    "import pandas as pd\n",
    "date = pd.to_datetime([\"2019-3-26\", \"2019-4-18\", \"2019-5-21\", \"2019-5-29\"])\n",
    "registration = [22, 15, 19, 13]\n",
    "\n",
    "# Create a figure with 1x2 subplots and make the left subplot active - Bubble Chart\n",
    "plt.subplot(1,2,1)\n",
    "import numpy as np\n",
    "plt.scatter(date, registration, s=np.array(registration)*100, color=[\"green\",\"red\",\"brown\",\"blue\"],alpha=0.5)\n",
    "plt.title(\"SSDA Workshop Registration\",fontsize=10)\n",
    "plt.xlabel(\"Date\", fontsize=10)\n",
    "plt.ylabel(\"Registration Number\",fontsize=10)\n",
    "plt.yticks([5,10,15,20,25,30])\n",
    "plt.xlim(\"2019-03-01\",\"2019-07-01\")\n",
    "plt.xticks([\"2019-03-01\",\"2019-04-01\",\"2019-05-01\",\"2019-06-01\",\"2019-07-01\"],[\"03-01\",\"04-01\",\"05-01\",\"06-01\",\"07-01\"])\n",
    "plt.text(\"2019-03-26\",22,\"Introduction to Python\", horizontalalignment='center', fontsize=8)\n",
    "plt.text(\"2019-04-18\",15,\"Introduction to R\", horizontalalignment='center', fontsize=8)\n",
    "plt.text(\"2019-05-21\",19, \"Random Forests on Spatial Data\", horizontalalignment='center', fontsize=8)\n",
    "plt.text(\"2019-5-29\",13, \"Intermediate Python\", horizontalalignment='center', fontsize=8)\n",
    "plt.grid()\n",
    "\n",
    "# Make the right subplot active - Bar Chart\n",
    "plt.subplot(1,2,2)\n",
    "showup = [15,10,10,6]\n",
    "noshowrate = np.round((np.array(registration)-np.array(showup))/np.array(registration)*100,2)\n",
    "plt.bar(date, registration, color=[\"aqua\",\"red\",\"silver\",\"yellow\"],width=[5,5,5,5])\n",
    "plt.bar(date, showup, color='orange',width=[5,5,5,5])\n",
    "plt.xlabel(\"Date\", fontsize=10)\n",
    "plt.ylabel(\"Number of Participants\", fontsize=10)\n",
    "plt.title(\"SSDA Workshop No-Show Analysis\",fontsize=10)\n",
    "plt.text(\"2019-3-26\", 18, str(noshowrate[0])+\"%\", horizontalalignment='center', fontsize=12)\n",
    "plt.text(\"2019-4-18\", 12, str(noshowrate[1])+\"%\", horizontalalignment='center', fontsize=12)\n",
    "plt.text(\"2019-5-21\", 15, str(noshowrate[2])+\"%\", horizontalalignment='center', fontsize=12)\n",
    "plt.text(\"2019-5-29\", 9, str(noshowrate[3])+\"%\", horizontalalignment='center', fontsize=12)\n",
    "plt.xlim(\"2019-03-01\",\"2019-07-01\")\n",
    "plt.xticks([\"2019-03-01\",\"2019-04-01\",\"2019-05-01\",\"2019-06-01\",\"2019-07-01\"],[\"03-01\",\"04-01\",\"05-01\",\"06-01\",\"07-01\"])\n",
    "plt.annotate(\"Max\",xy=(\"2019-5-21\",19),xytext=(\"2019-5-21\",21.5),arrowprops={\"color\":\"green\"},fontsize=16)\n",
    "\n",
    "# Use plt.tight_layout() to improve the spacing between subplots\n",
    "plt.tight_layout()\n",
    "plt.style.use(\"ggplot\")\n",
    "plt.show()"
   ]
  },
  {
   "cell_type": "code",
   "execution_count": null,
   "metadata": {},
   "outputs": [],
   "source": [
    "# dark_background style\n",
    "\n",
    "import pandas as pd\n",
    "date = pd.to_datetime([\"2019-3-26\", \"2019-4-18\", \"2019-5-21\", \"2019-5-29\"])\n",
    "registration = [22, 15, 19, 13]\n",
    "\n",
    "# Create a figure with 1x2 subplots and make the left subplot active - Bubble Chart\n",
    "plt.subplot(1,2,1)\n",
    "import numpy as np\n",
    "plt.scatter(date, registration, s=np.array(registration)*100, color=[\"green\",\"red\",\"brown\",\"blue\"],alpha=0.5)\n",
    "plt.title(\"SSDA Workshop Registration\",fontsize=10)\n",
    "plt.xlabel(\"Date\", fontsize=10)\n",
    "plt.ylabel(\"Registration Number\",fontsize=10)\n",
    "plt.yticks([5,10,15,20,25,30])\n",
    "plt.xlim(\"2019-03-01\",\"2019-07-01\")\n",
    "plt.xticks([\"2019-03-01\",\"2019-04-01\",\"2019-05-01\",\"2019-06-01\",\"2019-07-01\"],[\"03-01\",\"04-01\",\"05-01\",\"06-01\",\"07-01\"])\n",
    "plt.text(\"2019-03-26\",22,\"Introduction to Python\", horizontalalignment='center', fontsize=8)\n",
    "plt.text(\"2019-04-18\",15,\"Introduction to R\", horizontalalignment='center', fontsize=8)\n",
    "plt.text(\"2019-05-21\",19, \"Random Forests on Spatial Data\", horizontalalignment='center', fontsize=8)\n",
    "plt.text(\"2019-5-29\",13, \"Intermediate Python\", horizontalalignment='center', fontsize=8)\n",
    "plt.grid()\n",
    "\n",
    "# Make the right subplot active - Bar Chart\n",
    "plt.subplot(1,2,2)\n",
    "showup = [15,10,10,6]\n",
    "noshowrate = np.round((np.array(registration)-np.array(showup))/np.array(registration)*100,2)\n",
    "plt.bar(date, registration, color=[\"aqua\",\"red\",\"silver\",\"yellow\"],width=[5,5,5,5])\n",
    "plt.bar(date, showup, color='orange',width=[5,5,5,5])\n",
    "plt.xlabel(\"Date\", fontsize=10)\n",
    "plt.ylabel(\"Number of Participants\", fontsize=10)\n",
    "plt.title(\"SSDA Workshop No-Show Analysis\",fontsize=10)\n",
    "plt.text(\"2019-3-26\", 18, str(noshowrate[0])+\"%\", horizontalalignment='center', fontsize=12)\n",
    "plt.text(\"2019-4-18\", 12, str(noshowrate[1])+\"%\", horizontalalignment='center', fontsize=12)\n",
    "plt.text(\"2019-5-21\", 15, str(noshowrate[2])+\"%\", horizontalalignment='center', fontsize=12)\n",
    "plt.text(\"2019-5-29\", 9, str(noshowrate[3])+\"%\", horizontalalignment='center', fontsize=12)\n",
    "plt.xlim(\"2019-03-01\",\"2019-07-01\")\n",
    "plt.xticks([\"2019-03-01\",\"2019-04-01\",\"2019-05-01\",\"2019-06-01\",\"2019-07-01\"],[\"03-01\",\"04-01\",\"05-01\",\"06-01\",\"07-01\"])\n",
    "plt.annotate(\"Max\",xy=(\"2019-5-21\",19),xytext=(\"2019-5-21\",21.5),arrowprops={\"color\":\"green\"},fontsize=16)\n",
    "\n",
    "# Use plt.tight_layout() to improve the spacing between subplots\n",
    "plt.tight_layout()\n",
    "plt.style.use(\"dark_background\")\n",
    "plt.show()"
   ]
  }
 ],
 "metadata": {
  "kernelspec": {
   "display_name": "Python 3",
   "language": "python",
   "name": "python3"
  },
  "language_info": {
   "codemirror_mode": {
    "name": "ipython",
    "version": 3
   },
   "file_extension": ".py",
   "mimetype": "text/x-python",
   "name": "python",
   "nbconvert_exporter": "python",
   "pygments_lexer": "ipython3",
   "version": "3.7.3"
  }
 },
 "nbformat": 4,
 "nbformat_minor": 2
}
