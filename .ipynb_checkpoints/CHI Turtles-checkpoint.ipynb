{
 "cells": [
  {
   "cell_type": "markdown",
   "metadata": {},
   "source": [
    "# Turtles in CHI"
   ]
  },
  {
   "cell_type": "code",
   "execution_count": null,
   "metadata": {},
   "outputs": [],
   "source": [
    "# This notebook provides a fun exercise for using Python in Computer graphics\n",
    "# basically, we will be drawing stuff using a python turtle\n",
    "# This tutorial was largely inspired by a Python for Kids book, and online youtube tutorials by Tech With Tim."
   ]
  },
  {
   "cell_type": "markdown",
   "metadata": {},
   "source": [
    "## The turtle module"
   ]
  },
  {
   "cell_type": "code",
   "execution_count": null,
   "metadata": {},
   "outputs": [],
   "source": [
    "# A Python module is a single imported file. Packages are made up of multiple modules\n",
    "# The turtle module is a way of programming vector graphics, which is basically just drawing with\n",
    "# simple lines, dots and curves. \n",
    "# Let's start by importing the turtle module\n",
    "import turtle"
   ]
  },
  {
   "cell_type": "code",
   "execution_count": null,
   "metadata": {},
   "outputs": [],
   "source": [
    "# Now that we've imported the module, we need to create a place to draw on.\n",
    "# To do this, we have to call the turtle function from the turtle module and assign it to a variable \n",
    "# I have decided to name our turtle ethan, but you can name it whatever you like!\n",
    "ethan = turtle.Turtle()"
   ]
  },
  {
   "cell_type": "code",
   "execution_count": null,
   "metadata": {},
   "outputs": [],
   "source": [
    "# You should see a blank box with an arrow in the center appear. \n",
    "# In the middle of the screen is the turtle, which is disappointedly, not shaped like a turtle\n",
    "# So let's fix this problem, while changing some other basic attributes of our turtle. \n",
    "ethan.color('red')\n",
    "ethan.pensize(5)\n",
    "ethan.shape('turtle')"
   ]
  },
  {
   "cell_type": "markdown",
   "metadata": {},
   "source": [
    "## Moving the Turtle"
   ]
  },
  {
   "cell_type": "code",
   "execution_count": null,
   "metadata": {},
   "outputs": [],
   "source": [
    "# Ethan the turtle needs to get somewhere, so how to we move him?\n",
    "# There are a number of commands including:"
   ]
  },
  {
   "cell_type": "code",
   "execution_count": null,
   "metadata": {},
   "outputs": [],
   "source": [
    "# These commands move your turtle\n",
    "ethan.forward(25)\n",
    "ethan.backward(75)"
   ]
  },
  {
   "cell_type": "code",
   "execution_count": null,
   "metadata": {},
   "outputs": [],
   "source": [
    "# These commands affect the turtles direction\n",
    "ethan.left(50)\n",
    "ethan.right(100)"
   ]
  },
  {
   "cell_type": "code",
   "execution_count": null,
   "metadata": {},
   "outputs": [],
   "source": [
    "# We can also change when the turtle draws by \"picking up the pen\" and \"putting it down\"\n",
    "ethan.penup()\n",
    "ethan.pendown()\n",
    "\n",
    "# While we're also at it, we can change his color!\n",
    "ethan.color('purple')"
   ]
  },
  {
   "cell_type": "code",
   "execution_count": null,
   "metadata": {},
   "outputs": [],
   "source": [
    "# Now if we combine a bunch of these commands we can see ethan get a move on!\n",
    "ethan.penup()\n",
    "ethan.left(25)\n",
    "ethan.forward(60)\n",
    "ethan.pendown()\n",
    "ethan.color('green')\n",
    "ethan.left(25)\n",
    "ethan.forward(100)\n",
    "ethan.color('blue')\n",
    "ethan.left(90)\n",
    "ethan.forward(200)"
   ]
  },
  {
   "cell_type": "code",
   "execution_count": null,
   "metadata": {},
   "outputs": [],
   "source": [
    "# Now you can try moving around the turtle a bit yourself. \n",
    "# Enter your code in the next block and run it\n",
    "\n"
   ]
  },
  {
   "cell_type": "code",
   "execution_count": null,
   "metadata": {},
   "outputs": [],
   "source": [
    "# You can see how a talented individual could make some cool drawings using simple turtle commands in Python\n",
    "# There are also commands to automatically draw shapes with turtles, but we will have to save that for another time. \n",
    "# Instead, lets make our turtle a little bit more intelligent"
   ]
  },
  {
   "cell_type": "markdown",
   "metadata": {},
   "source": [
    "# # Turtle Events"
   ]
  },
  {
   "cell_type": "code",
   "execution_count": null,
   "metadata": {},
   "outputs": [],
   "source": [
    "# To make our turtle ethan more intelligent, we're going to give it the ability to listen to key commands to move\n",
    "# first let's make our turtle move fast, so we don't have to wait too long for him to move\n",
    "ethan.speed(0)\n",
    "\n",
    "# Then let's give ourselves a variety of colors to refer to in a list\n",
    "colors = ['red', 'blue', 'green', 'purple', 'yellow', 'orange', 'black']\n",
    "\n",
    "# And finally, let's import another package that will let use this list of colors do some cool things later\n",
    "import random"
   ]
  },
  {
   "cell_type": "code",
   "execution_count": null,
   "metadata": {},
   "outputs": [],
   "source": [
    "# Now let's create some functions that tell the turtle what to do when a user enters a certain key\n",
    "# def allows us to define these functions\n",
    "# setheading() tells the turtle which direction to face\n",
    "# forward(), as explained before, tells the turtle to go. \n",
    "\n",
    "def up():\n",
    "    ethan.setheading(90)\n",
    "    ethan.forward(100)\n",
    "    \n",
    "def down():\n",
    "    ethan.setheading(270)\n",
    "    ethan.forward(100)\n",
    "    \n",
    "def left():\n",
    "    ethan.setheading(180)\n",
    "    ethan.forward(100)\n",
    "    \n",
    "def right():\n",
    "    ethan.setheading(0)\n",
    "    ethan.forward(100)\n"
   ]
  },
  {
   "cell_type": "code",
   "execution_count": null,
   "metadata": {},
   "outputs": [],
   "source": [
    "# Now that we have direction functions defined, let's introduce some functions that will be used to perfom\n",
    "# some tasks after you click your mouse\n",
    "# First we define a function that randomly assigns a color to the turtle\n",
    "# Then we create a function that stamps ethan onto the page.\n",
    "\n",
    "def clickleft(x,y):\n",
    "    ethan.color(random.choice(colors))\n",
    "    \n",
    "def clickright(x,y):\n",
    "    ethan.stamp()"
   ]
  },
  {
   "cell_type": "code",
   "execution_count": 1,
   "metadata": {},
   "outputs": [
    {
     "ename": "NameError",
     "evalue": "name 'turtle' is not defined",
     "output_type": "error",
     "traceback": [
      "\u001b[1;31m---------------------------------------------------------------------------\u001b[0m",
      "\u001b[1;31mNameError\u001b[0m                                 Traceback (most recent call last)",
      "\u001b[1;32m<ipython-input-1-ab356802d562>\u001b[0m in \u001b[0;36m<module>\u001b[1;34m\u001b[0m\n\u001b[0;32m      2\u001b[0m \u001b[1;31m# but we can make him listen to us with the listen function.\u001b[0m\u001b[1;33m\u001b[0m\u001b[1;33m\u001b[0m\u001b[1;33m\u001b[0m\u001b[0m\n\u001b[0;32m      3\u001b[0m \u001b[1;33m\u001b[0m\u001b[0m\n\u001b[1;32m----> 4\u001b[1;33m \u001b[0mturtle\u001b[0m\u001b[1;33m.\u001b[0m\u001b[0mlisten\u001b[0m\u001b[1;33m(\u001b[0m\u001b[1;33m)\u001b[0m\u001b[1;33m\u001b[0m\u001b[1;33m\u001b[0m\u001b[0m\n\u001b[0m",
      "\u001b[1;31mNameError\u001b[0m: name 'turtle' is not defined"
     ]
    }
   ],
   "source": [
    "# In order to use these functions, we need ethan to listen. Right now he is ignoring everything we are saying to him, \n",
    "# but we can make him listen to us with the listen function.\n",
    "# This makes all turtles listen \n",
    "\n",
    "turtle.listen()"
   ]
  },
  {
   "cell_type": "code",
   "execution_count": null,
   "metadata": {},
   "outputs": [],
   "source": [
    "# Now we can start using the predefined functions to   \n",
    "turtle.onscreenclick(clickleft, 1)\n",
    "turtle.onscreenclick(clickright, 3)"
   ]
  },
  {
   "cell_type": "code",
   "execution_count": null,
   "metadata": {},
   "outputs": [],
   "source": [
    "# Now that the program is listening, we can give it onkey functions to listen to\n",
    "\n",
    "turtle.onkey(up, 'Up')\n",
    "turtle.onkey(down, 'Down')\n",
    "turtle.onkey(left, 'Left')\n",
    "turtle.onkey(right, 'Right')\n",
    "\n",
    "# We need to add a mainloop function that keeps the program open until we close it. \n",
    "turtle.mainloop()"
   ]
  },
  {
   "cell_type": "markdown",
   "metadata": {},
   "source": [
    "# # Using your mouse to move your turtle"
   ]
  },
  {
   "cell_type": "code",
   "execution_count": 2,
   "metadata": {},
   "outputs": [],
   "source": [
    "# Create a function for dragging your turtle across the screen\n",
    "import turtle\n",
    "from turtle import Turtle, Screen\n",
    "\n",
    "screen = Screen()\n",
    "ethan = Turtle(\"turtle\")\n",
    "ethan.speed(-1)\n",
    "\n",
    "def dragging(x, y):\n",
    "    ethan.ondrag(None)\n",
    "    ethan.setheading(ethan.towards(x,y))\n",
    "    ethan.goto(x,y)\n",
    "    ethan.ondrag(dragging)\n",
    "    \n",
    "def clickright (x,y):\n",
    "    ethan.clear()\n",
    "    \n",
    "def main():\n",
    "    turtle.listen()\n",
    "    \n",
    "    ethan.ondrag(dragging)\n",
    "    \n",
    "    turtle.onscreenclick(clickright, 3)\n",
    "    \n",
    "    screen.mainloop()\n",
    "    \n",
    "main()"
   ]
  }
 ],
 "metadata": {
  "kernelspec": {
   "display_name": "Python 3",
   "language": "python",
   "name": "python3"
  },
  "language_info": {
   "codemirror_mode": {
    "name": "ipython",
    "version": 3
   },
   "file_extension": ".py",
   "mimetype": "text/x-python",
   "name": "python",
   "nbconvert_exporter": "python",
   "pygments_lexer": "ipython3",
   "version": "3.7.4"
  }
 },
 "nbformat": 4,
 "nbformat_minor": 2
}
